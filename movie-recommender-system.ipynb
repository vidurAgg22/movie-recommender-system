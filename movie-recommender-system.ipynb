import numpy as np
import pandas as pd

movies_df = pd.read_csv('tmdb_5000_credits.csv')
credits_df = pd.read_csv('tmdb_5000_movies.csv')

merged_df = movies_df.merge(credits_df, on='title')

movies = merged_df[['movie_id','title','overview','genres','keywords','cast','crew']]

print(movies.isnull().sum())

movies.dropna(inplace=True)

print(movies.isnull().sum())
print(movies.duplicated().sum())

import ast

def convert(text):
    result = []
    for item in ast.literal_eval(text):
        result.append(item['name']) 
    return result 

movies['genres'] = movies['genres'].apply(convert)
movies['keywords'] = movies['keywords'].apply(convert)

movies['cast'] = movies['cast'].apply(convert)
movies['cast'] = movies['cast'].apply(lambda x: x[0:3])

def fetch_director(text):
    result = []
    for item in ast.literal_eval(text):
        if item['job'] == 'Director':
            result.append(item['name'])
    return result 

movies['crew'] = movies['crew'].apply(fetch_director)

def collapse(L):
    result = []
    for item in L:
        result.append(item.replace(" ",""))
    return result

movies['cast'] = movies['cast'].apply(collapse)
movies['crew'] = movies['crew'].apply(collapse)
movies['genres'] = movies['genres'].apply(collapse)
movies['keywords'] = movies['keywords'].apply(collapse)

movies['overview'] = movies['overview'].apply(lambda x: x.split())
movies['tags'] = movies['overview'] + movies['genres'] + movies['keywords'] + movies['cast'] + movies['crew']
new_df = movies.drop(columns=['overview','genres','keywords','cast','crew'])

new_df['tags'] = new_df['tags'].apply(lambda x: " ".join(x))

from sklearn.feature_extraction.text import CountVectorizer

cv = CountVectorizer(max_features=5000, stop_words='english')
vectorized_tags = cv.fit_transform(new_df['tags']).toarray()

from sklearn.metrics.pairwise import cosine_similarity

similarity_matrix = cosine_similarity(vectorized_tags)

def recommend(movie_title):
    movie_index = new_df[new_df['title'] == movie_title].index[0]
    distances = sorted(list(enumerate(similarity_matrix[movie_index])), reverse=True, key=lambda x: x[1])
    print("Recommendations for", movie_title, ":")
    for i in distances[1:6]:
        print(new_df.iloc[i[0]].title)

import pickle

with open('movie_list.pkl', 'wb') as f1:
    pickle.dump(new_df, f1)

with open('similarity.pkl', 'wb') as f2:
    pickle.dump(similarity_matrix, f2)
